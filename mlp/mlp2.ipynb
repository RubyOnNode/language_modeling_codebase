{
 "cells": [
  {
   "cell_type": "code",
   "execution_count": 0,
   "metadata": {
    "application/vnd.databricks.v1+cell": {
     "cellMetadata": {
      "byteLimit": 2048000,
      "rowLimit": 10000
     },
     "inputWidgets": {},
     "nuid": "3663c5de-3ff8-4d01-9765-49967f05c0a6",
     "showTitle": false,
     "tableResultSettingsMap": {},
     "title": ""
    }
   },
   "outputs": [],
   "source": [
    "import random\n",
    "import torch\n",
    "import torch.nn.functional as F\n",
    "\n",
    "random.seed(42)"
   ]
  },
  {
   "cell_type": "code",
   "execution_count": 0,
   "metadata": {
    "application/vnd.databricks.v1+cell": {
     "cellMetadata": {
      "byteLimit": 2048000,
      "rowLimit": 10000
     },
     "inputWidgets": {},
     "nuid": "3fab224b-8f26-44b8-8db6-af1bf81d5a6f",
     "showTitle": false,
     "tableResultSettingsMap": {},
     "title": ""
    }
   },
   "outputs": [],
   "source": [
    "with open(\"/Workspace/Users/hitesh.meena@renew.com/RNN/mlp/names.txt\", \"r\") as f:\n",
    "    all_names = f.read().splitlines()\n"
   ]
  },
  {
   "cell_type": "code",
   "execution_count": 0,
   "metadata": {
    "application/vnd.databricks.v1+cell": {
     "cellMetadata": {
      "byteLimit": 2048000,
      "rowLimit": 10000
     },
     "inputWidgets": {},
     "nuid": "a4ded8f4-4bb3-4ac8-a54d-6124faed9b2a",
     "showTitle": false,
     "tableResultSettingsMap": {},
     "title": ""
    }
   },
   "outputs": [
    {
     "name": "stdout",
     "output_type": "stream",
     "text": [
      "['emma', 'olivia', 'ava', 'isabella', 'sophia', 'charlotte', 'mia', 'amelia']\n",
      "Total names: 35879\n"
     ]
    }
   ],
   "source": [
    "#names \n",
    "print(all_names[:8])\n",
    "print(f\"Total names: {len(all_names)}\")"
   ]
  },
  {
   "cell_type": "code",
   "execution_count": 0,
   "metadata": {
    "application/vnd.databricks.v1+cell": {
     "cellMetadata": {
      "byteLimit": 2048000,
      "rowLimit": 10000
     },
     "inputWidgets": {},
     "nuid": "696b1db2-64fe-4d57-9a8c-47e48683d732",
     "showTitle": false,
     "tableResultSettingsMap": {},
     "title": ""
    }
   },
   "outputs": [],
   "source": [
    "all_chars = sorted(list(set(\"\".join(all_names))))\n",
    "\n",
    "stoi = {ch:i+1 for i, ch in enumerate(all_chars)}\n",
    "stoi[\".\"] = 0\n",
    "\n",
    "itos = {value: key for key, value in stoi.items()}"
   ]
  },
  {
   "cell_type": "code",
   "execution_count": 0,
   "metadata": {
    "application/vnd.databricks.v1+cell": {
     "cellMetadata": {
      "byteLimit": 2048000,
      "rowLimit": 10000
     },
     "inputWidgets": {},
     "nuid": "36c202fa-9483-42d4-8dfd-9fab4d147159",
     "showTitle": false,
     "tableResultSettingsMap": {},
     "title": ""
    }
   },
   "outputs": [
    {
     "name": "stdout",
     "output_type": "stream",
     "text": [
      "{'a': 1, 'b': 2, 'c': 3, 'd': 4, 'e': 5, 'f': 6, 'g': 7, 'h': 8, 'i': 9, 'j': 10, 'k': 11, 'l': 12, 'm': 13, 'n': 14, 'o': 15, 'p': 16, 'q': 17, 'r': 18, 's': 19, 't': 20, 'u': 21, 'v': 22, 'w': 23, 'x': 24, 'y': 25, 'z': 26, '.': 0}\n",
      "{1: 'a', 2: 'b', 3: 'c', 4: 'd', 5: 'e', 6: 'f', 7: 'g', 8: 'h', 9: 'i', 10: 'j', 11: 'k', 12: 'l', 13: 'm', 14: 'n', 15: 'o', 16: 'p', 17: 'q', 18: 'r', 19: 's', 20: 't', 21: 'u', 22: 'v', 23: 'w', 24: 'x', 25: 'y', 26: 'z', 0: '.'}\n"
     ]
    }
   ],
   "source": [
    "print(stoi)\n",
    "print(itos)"
   ]
  },
  {
   "cell_type": "code",
   "execution_count": 0,
   "metadata": {
    "application/vnd.databricks.v1+cell": {
     "cellMetadata": {
      "byteLimit": 2048000,
      "rowLimit": 10000
     },
     "inputWidgets": {},
     "nuid": "a46b5f59-9805-4644-93f2-1666ae626977",
     "showTitle": false,
     "tableResultSettingsMap": {},
     "title": ""
    }
   },
   "outputs": [
    {
     "name": "stdout",
     "output_type": "stream",
     "text": [
      "X,Y shapes:  torch.Size([205216, 3]) torch.Size([205216])\n",
      "X,Y shapes:  torch.Size([25876, 3]) torch.Size([25876])\n",
      "X,Y shapes:  torch.Size([25550, 3]) torch.Size([25550])\n"
     ]
    }
   ],
   "source": [
    "CONTEXT_WINDOW = 3\n",
    "\n",
    "def build_dataset(names):\n",
    "    X, Y = [], []\n",
    "\n",
    "    for name in names:\n",
    "        # print(f\"name: {name}\")\n",
    "        extended_name  = \"...\" + name + \".\"\n",
    "        # print(f\"extended name: {extended_name}\")\n",
    "        for idx in range(len(extended_name)-CONTEXT_WINDOW):\n",
    "            in_char = extended_name[idx:idx+CONTEXT_WINDOW]\n",
    "            out_char = extended_name[idx+CONTEXT_WINDOW]\n",
    "            # print(f\"{in_char} ---> {out_char}\")\n",
    "            X.append([stoi[x] for x in list(in_char)])\n",
    "            Y.append(stoi[out_char])\n",
    "        # print(\"_\"*30)\n",
    "\n",
    "    X = torch.tensor(X)\n",
    "    Y = torch.tensor(Y)\n",
    "\n",
    "    print(\"X,Y shapes: \", X.shape, Y.shape)\n",
    "\n",
    "    return X, Y\n",
    "\n",
    "random.shuffle(all_names)\n",
    "n1 = int(len(all_names)*0.8)\n",
    "n2 = int(len(all_names)*0.9)\n",
    "\n",
    "Xtrain, Ytrain = build_dataset(all_names[:n1])\n",
    "Xval, Yval = build_dataset(all_names[n1:n2])\n",
    "Xtest, Ytest = build_dataset(all_names[n2:])"
   ]
  },
  {
   "cell_type": "code",
   "execution_count": 0,
   "metadata": {
    "application/vnd.databricks.v1+cell": {
     "cellMetadata": {
      "byteLimit": 2048000,
      "rowLimit": 10000
     },
     "inputWidgets": {},
     "nuid": "f97473dd-3022-40f8-9052-8d4452dac645",
     "showTitle": false,
     "tableResultSettingsMap": {},
     "title": ""
    }
   },
   "outputs": [],
   "source": [
    "n_embed = 10\n",
    "n_hidden = 200\n",
    "VOCAB = 27"
   ]
  },
  {
   "cell_type": "code",
   "execution_count": 0,
   "metadata": {
    "application/vnd.databricks.v1+cell": {
     "cellMetadata": {
      "byteLimit": 2048000,
      "rowLimit": 10000
     },
     "inputWidgets": {},
     "nuid": "70890d80-d59d-44bd-aed1-b81f044f1246",
     "showTitle": false,
     "tableResultSettingsMap": {},
     "title": ""
    }
   },
   "outputs": [
    {
     "name": "stdout",
     "output_type": "stream",
     "text": [
      "x: tensor([0, 0, 0]) --> y: 19\n",
      "x: tensor([ 0,  0, 19]) --> y: 9\n",
      "x: tensor([ 0, 19,  9]) --> y: 25\n",
      "x: tensor([19,  9, 25]) --> y: 1\n",
      "x: tensor([ 9, 25,  1]) --> y: 14\n"
     ]
    }
   ],
   "source": [
    "for idx in range(5):\n",
    "    print(f\"x: {Xtrain[idx]} --> y: {Ytrain[idx]}\")"
   ]
  },
  {
   "cell_type": "markdown",
   "metadata": {
    "application/vnd.databricks.v1+cell": {
     "cellMetadata": {},
     "inputWidgets": {},
     "nuid": "3b7307e3-47ae-428d-a8a8-6df4fa1ca68f",
     "showTitle": false,
     "tableResultSettingsMap": {},
     "title": ""
    }
   },
   "source": [
    "# MLP Network "
   ]
  },
  {
   "cell_type": "code",
   "execution_count": 0,
   "metadata": {
    "application/vnd.databricks.v1+cell": {
     "cellMetadata": {
      "byteLimit": 2048000,
      "rowLimit": 10000
     },
     "inputWidgets": {},
     "nuid": "d982524e-d9df-4b56-bad2-70a97f676174",
     "showTitle": false,
     "tableResultSettingsMap": {},
     "title": ""
    }
   },
   "outputs": [],
   "source": [
    "input_size_1 = CONTEXT_WINDOW * n_embed\n",
    "\n",
    "lrs = [0.1, 0.01, 0.001]\n",
    "\n",
    "epochs = 200000\n",
    "batch_size = 32"
   ]
  },
  {
   "cell_type": "markdown",
   "metadata": {
    "application/vnd.databricks.v1+cell": {
     "cellMetadata": {},
     "inputWidgets": {},
     "nuid": "3345a171-6a7d-496b-bdf7-e02c4ac4d437",
     "showTitle": false,
     "tableResultSettingsMap": {},
     "title": ""
    }
   },
   "source": [
    "# Initalize Weights and biases"
   ]
  },
  {
   "cell_type": "code",
   "execution_count": 0,
   "metadata": {
    "application/vnd.databricks.v1+cell": {
     "cellMetadata": {
      "byteLimit": 2048000,
      "rowLimit": 10000
     },
     "inputWidgets": {},
     "nuid": "ffaa33be-ce73-461b-af9e-6cb4c24750f4",
     "showTitle": false,
     "tableResultSettingsMap": {},
     "title": ""
    }
   },
   "outputs": [],
   "source": [
    "gen = torch.Generator().manual_seed(2147483647)\n",
    "\n",
    "C = torch.randn((VOCAB, n_embed),          generator=gen)\n",
    "\n",
    "w1 = torch.randn((input_size_1, n_hidden), generator=gen) * 0.2\n",
    "b1 = torch.randn(n_hidden,                 generator=gen) * 0.01\n",
    "\n",
    "w2 = torch.randn((n_hidden, VOCAB),        generator=gen) * 0.01\n",
    "b2 = torch.randn(VOCAB,                    generator=gen) * 0\n",
    "\n",
    "parameters = [C, w1, b1, w2, b2]\n",
    "\n",
    "for p in parameters:\n",
    "    p.requires_grad=True"
   ]
  },
  {
   "cell_type": "code",
   "execution_count": 0,
   "metadata": {
    "application/vnd.databricks.v1+cell": {
     "cellMetadata": {
      "byteLimit": 2048000,
      "rowLimit": 10000
     },
     "inputWidgets": {},
     "nuid": "4895f2ec-62af-421b-b616-d9505c17fff2",
     "showTitle": false,
     "tableResultSettingsMap": {},
     "title": ""
    }
   },
   "outputs": [
    {
     "data": {
      "text/plain": [
       "11897"
      ]
     },
     "execution_count": 34,
     "metadata": {},
     "output_type": "execute_result"
    }
   ],
   "source": [
    "sum(p.nelement() for p in parameters)"
   ]
  },
  {
   "cell_type": "markdown",
   "metadata": {
    "application/vnd.databricks.v1+cell": {
     "cellMetadata": {},
     "inputWidgets": {},
     "nuid": "01e89059-773d-4038-b601-c986fa29886d",
     "showTitle": false,
     "tableResultSettingsMap": {},
     "title": ""
    }
   },
   "source": [
    "### forward pass"
   ]
  },
  {
   "cell_type": "code",
   "execution_count": 0,
   "metadata": {
    "application/vnd.databricks.v1+cell": {
     "cellMetadata": {
      "byteLimit": 2048000,
      "rowLimit": 10000
     },
     "inputWidgets": {},
     "nuid": "ae2a3ef2-43e4-46e7-8caa-ce8f160f7eb9",
     "showTitle": false,
     "tableResultSettingsMap": {},
     "title": ""
    }
   },
   "outputs": [
    {
     "name": "stdout",
     "output_type": "stream",
     "text": [
      "epoch=0 loss: 3.2235\n",
      "epoch=5000 loss: 2.1374\n",
      "epoch=10000 loss: 2.1353\n",
      "epoch=15000 loss: 2.2252\n",
      "epoch=20000 loss: 2.2011\n",
      "epoch=25000 loss: 2.4298\n",
      "epoch=30000 loss: 2.4434\n",
      "epoch=35000 loss: 2.0030\n",
      "epoch=40000 loss: 2.1063\n",
      "epoch=45000 loss: 2.0263\n",
      "epoch=50000 loss: 2.1585\n",
      "epoch=55000 loss: 2.1776\n",
      "epoch=60000 loss: 2.2916\n",
      "epoch=65000 loss: 1.7496\n",
      "epoch=70000 loss: 1.8921\n",
      "epoch=75000 loss: 2.3981\n",
      "epoch=80000 loss: 2.0755\n",
      "epoch=85000 loss: 1.9425\n",
      "epoch=90000 loss: 2.1245\n",
      "epoch=95000 loss: 2.1079\n",
      "epoch=100000 loss: 2.2253\n",
      "epoch=105000 loss: 2.2174\n",
      "epoch=110000 loss: 2.3121\n",
      "epoch=115000 loss: 1.8959\n",
      "epoch=120000 loss: 2.1013\n",
      "epoch=125000 loss: 1.6222\n",
      "epoch=130000 loss: 2.1612\n",
      "epoch=135000 loss: 2.2270\n",
      "epoch=140000 loss: 1.9882\n",
      "epoch=145000 loss: 2.5178\n",
      "epoch=150000 loss: 2.2280\n",
      "epoch=155000 loss: 1.9242\n",
      "epoch=160000 loss: 2.3170\n",
      "epoch=165000 loss: 2.3437\n",
      "epoch=170000 loss: 1.9475\n",
      "epoch=175000 loss: 2.1511\n",
      "epoch=180000 loss: 2.2528\n",
      "epoch=185000 loss: 1.9386\n",
      "epoch=190000 loss: 1.8189\n",
      "epoch=195000 loss: 1.8723\n"
     ]
    }
   ],
   "source": [
    "for epoch in range(epochs):\n",
    "\n",
    "    # Minibatch\n",
    "    sample = torch.randint(0, Xtrain.shape[0], (batch_size,))\n",
    "        \n",
    "    # Forward Pass\n",
    "    emb = torch.reshape(C[Xtrain[sample]], (batch_size, (CONTEXT_WINDOW * n_embed)))\n",
    "    hpreac = emb @ w1 + b1\n",
    "    out = torch.tanh(hpreac)\n",
    "    logits = out @ w2 + b2\n",
    "\n",
    "    for p in parameters:\n",
    "        p.grad = None\n",
    "    # Loss\n",
    "    loss = F.cross_entropy(logits, Ytrain[sample])\n",
    "    loss.backward()\n",
    "\n",
    "    if epoch < 50000:\n",
    "        lr = lrs[0]\n",
    "    elif epoch < 10000:\n",
    "        lr = lrs[1]\n",
    "    else:\n",
    "        lr = lrs[2]\n",
    "\n",
    "    # update\n",
    "    for p in parameters:\n",
    "        p.data += - lr * p.grad\n",
    "    \n",
    "    if epoch % 5000 == 0:\n",
    "        print(f\"{epoch=} loss: {loss.item():.4f}\")"
   ]
  },
  {
   "cell_type": "code",
   "execution_count": 0,
   "metadata": {
    "application/vnd.databricks.v1+cell": {
     "cellMetadata": {
      "byteLimit": 2048000,
      "rowLimit": 10000
     },
     "inputWidgets": {},
     "nuid": "1c00e764-4879-42fd-a7b0-ef5302509053",
     "showTitle": false,
     "tableResultSettingsMap": {},
     "title": ""
    }
   },
   "outputs": [
    {
     "name": "stdout",
     "output_type": "stream",
     "text": [
      "split: train loss: 3.2326\n",
      "split: test loss: 3.2330\n",
      "split: valid loss: 3.2329\n"
     ]
    }
   ],
   "source": [
    "split_data = {\n",
    "    \"train\": (Xtrain, Ytrain),\n",
    "    \"test\": (Xtest, Ytest),\n",
    "    \"valid\": (Xval, Yval)\n",
    "}\n",
    "\n",
    "@torch.no_grad()\n",
    "def split_loss(Xdata, Ydata, split):\n",
    "\n",
    "    emb = torch.reshape(C[Xdata], (Xdata.shape[0], (CONTEXT_WINDOW * n_embed)))\n",
    "    out = torch.tanh(emb @ w1 + b1)\n",
    "    logits = out @ w2 + b2\n",
    "\n",
    "    for p in parameters:\n",
    "        p.grad = None\n",
    "    # Loss\n",
    "    loss = F.cross_entropy(logits, Ydata)\n",
    "    print(f\"split: {split} loss: {loss.item():.4f}\")\n",
    "\n",
    "split_loss(*split_data[\"train\"], \"train\")\n",
    "split_loss(*split_data[\"test\"], \"test\")\n",
    "split_loss(*split_data[\"valid\"], \"valid\")"
   ]
  },
  {
   "cell_type": "code",
   "execution_count": 0,
   "metadata": {
    "application/vnd.databricks.v1+cell": {
     "cellMetadata": {
      "byteLimit": 2048000,
      "rowLimit": 10000
     },
     "inputWidgets": {},
     "nuid": "8046f714-abe7-43d3-8c1b-ed1623bd04c4",
     "showTitle": false,
     "tableResultSettingsMap": {},
     "title": ""
    }
   },
   "outputs": [
    {
     "name": "stdout",
     "output_type": "stream",
     "text": [
      "cexzm\n",
      "zoglkurkioqzktyhwbvlzimjtnainrlkfukzkktda\n",
      "rfmxvpubjtbhrmgotzx\n",
      "iczixqctxujkwptedogkkjemkmmsidguenkbvgynywftbspmhwcivgbvtahlvsu\n",
      "dsdxxblnwglhpynw\n",
      "igwnjwrpfdwipkwzkm\n",
      "desu\n",
      "firmt\n",
      "gbiksjbhuabsvoth\n",
      "kuysxqevmcmrbxmtwyhfkjenvxmvpfkmlmghfvjzxobojysoxhgbptjapxweegpfwhccfyzfvksiiqmvwbhmiwqmduzqsamjhgamcxemmk\n",
      "isbcxfmbalcslhh\n",
      "fpyzvasvz\n",
      "bqzazeenschck\n",
      "wnkojuoxyvtvfiwkkddugnkul\n",
      "fuwfcgjz\n",
      "arl\n",
      "j\n",
      "nuuutstofgqzudbo\n",
      "rdubpknumd\n",
      "vxfacdvaaasjzjkdh\n",
      "gh\n",
      "frdklhahflrklmlcugro\n",
      "pnxhwyx\n",
      "vn\n",
      "gixgosfqc\n",
      "mempfnclfxtirbkhpjfdwhzymalerzgvmzjvtjuifbooovnkcxlkvrmjafcie\n",
      "xoraw\n",
      "\n",
      "veigtbcaamnnf\n",
      "chfeukwowseadjjkkswrcpawhoxskfikw\n",
      "scynndtiuxxwoturzhqnsjdndszuockexiegzzulhnqdqwosi\n",
      "kdrnfjvmtthtpzzmdvvhvtptaqlhdnkj\n",
      "zxkcbrzsrcagitwicvkcqiotgnvpllciqs\n",
      "uohjxnvxqikebadkdawdfwwea\n",
      "fqcnmrloljlpjldyjehpprjpssmkznhrmmyoadmsod\n",
      "dnvzcomtzfikidecxjhbmmjxqphvtedjbwkxzyisndnoauiycrdfetifkvzlzf\n",
      "ud\n",
      "ckndsgyldqbkcylrozgwkjgftrahdrndapspdayna\n",
      "thavpgelvlfqxxsdabgxlyzv\n",
      "ikzvrykvyxhuj\n",
      "qkkwkuaics\n",
      "xxqubplmqguhbpnetz\n",
      "\n",
      "tfscppboipyvqyrccekoodxengwalyrfviiutynlydwbrpgklfmblqgkdhmoixqzls\n",
      "q\n",
      "sdjrgmtgxupikxluyhxrealxxjus\n",
      "kfsngonzemqzdxuyvoagrnvrpkzichkezabvtmclxzdftjxdpzpaxppovqwmbwhzg\n",
      "fjrwrbhoyepsnddgny\n",
      "ahebb\n",
      "eprb\n",
      "nyigehvatuoadruay\n",
      "xkhulmrtgh\n",
      "pohc\n",
      "nvppaosms\n",
      "qddomkvzjd\n",
      "xjpsyguhwjjbkbfzicfayggjt\n",
      "qnpbikjrgghggyjwrsoghbwemdkez\n",
      "pkhiomtqcgsy\n",
      "sbfvmfnwrkooujbf\n",
      "uhlfbomewnthtulghlqluqtpzktfrqvllggegm\n",
      "cvqzbmzqgofwbqc\n",
      "yuqxbdshpbhzyulymxfigz\n",
      "xjcgdinqxlhlbzusitbmfaakuy\n",
      "qcfotmd\n",
      "agozpzxazrquylogaxsjkdysekijzdmvqmjnburss\n",
      "wogzlttqpsmdnozcwmbhlejoszostdl\n",
      "jkofpepypei\n",
      "mxbp\n",
      "uxdojtxodhanbnwotxoktabrbi\n",
      "pczqsyhhjjkyr\n",
      "ygphunpwevnhleruoztpqtfilsiafeefyzewgnxvnpvalriuy\n",
      "afmlfrmkxqx\n",
      "styfqxfliobsw\n",
      "xwgmukmnlpzyql\n",
      "tep\n",
      "rwbmpposssqmumxibvweguvhsyvzmghvnfvaxzvdhalnqzuwxeb\n",
      "\n",
      "uovxolykloovdwgycejiwr\n",
      "dahycjqir\n",
      "hmrlnotreopcpbpmtcotmxmacgdd\n",
      "sdzdmbpfpfyfmdaonkigdt\n",
      "tfddorrsmwnqxxgycupo\n",
      "wviyif\n",
      "mglrywdjcsivfqav\n",
      "stvq\n",
      "uungcisfgyqqzwgtinnq\n",
      "mvfqdfffpurimkeaafouwxzjgpbrvxhrnrazwdghbyfktqru\n",
      "oofwlyyewzruja\n",
      "avtubceelrvcutbxtexahcsjungadtvrjkrotyd\n",
      "lpikkmxpdzptwlfxwzwkldvj\n",
      "tebmaqzetfne\n",
      "rqwcwacrxfvxwcyjqissmopqokgorqwqxpnbhtfsjabgjdgziospzzmcgsdxkvekieflr\n",
      "wlsfbmkurlnhiotehbcqapteusau\n",
      "ahdbccbugpsltblhnhcvijxnybsiabwbgdjygoymhgzmgvxqchalqbrvieihetmrjdjnvymbmyvddwmuwngbqlndy\n",
      "lfvyjkfmhpwdemeterw\n",
      "qtfh\n",
      "ghm\n",
      "cmcmrausymxpw\n",
      "ymf\n",
      "xrrrvqxck\n",
      "rn\n",
      "rbgjqfgnljv\n",
      "tctyjkmcbgzarxoqddxtegdblyqnm\n",
      "recfiauyquwdtj\n",
      "osacfwuouevzbrvnjyegb\n",
      "wmezsnqdenatbbpwyvyhciqfuejnaqonsxpqjpkg\n",
      "btoexcuimi\n",
      "ujfltidqpayowbrhnznzptselp\n",
      "fchnkbcjsnh\n",
      "dy\n",
      "salddknrqnxxqmo\n",
      "otcmgmhgtxxwopexmmikhxxcddviyqeplandoqtppedgoczszsziqjdntbnjnjxdpzydwahnsee\n",
      "gnhxridhdnhldiym\n",
      "xkkni\n",
      "qiaunftgivurqiuqedtpspeibkohfklg\n",
      "zrrkstdfstbrdokddse\n",
      "jokyg\n",
      "lfbtooujwdjkexaisdtnq\n",
      "quekjrfztxlfdd\n",
      "nifjh\n",
      "mt\n",
      "iklblpmpnckkax\n",
      "zjffoiupzfivxdcvhotwbinxneyrkqrjtzaxvfpcjqlbknnhebeqitxphgiymnjenxiypdytzllffgofsbzxlhsmvmsyxonrqzlddvwaaqcwfkitd\n",
      "ozw\n",
      "soxgan\n",
      "p\n",
      "qyldjdeuxnxwibfaszrpeuciloxvvrwpdhiwkkctdjq\n",
      "mfbmkyomtbhswgnumveokrdieqwuzeouyo\n",
      "elkrkgporimvmxuj\n",
      "qxndybzegreewxlweuxlxjnikkr\n",
      "ihwtyvgnw\n",
      "xvcefsgniml\n",
      "cgxcasfnr\n",
      "eblahjsgpzcyrwqphfwqmt\n",
      "zukfmq\n",
      "zdmgmjrgnfdwhzcjrjojhbyuealjnvzbushvy\n",
      "mmhzcftmchakjqisf\n",
      "pjcfnrncstlhawd\n",
      "lc\n",
      "yglchhcvbmuvrzv\n",
      "hxujqairbqghuouleihtjbatjxgytpsymlxlk\n",
      "cqrwrcuiyrrubnehjznlfrofstcj\n",
      "tsdtjztiusnc\n",
      "gwmlwldjvfqplm\n",
      "nprthoqzfcxxsjinqes\n",
      "rykjnsab\n",
      "\n",
      "lwfnjefkuxwxibbwzykbhuholyclgejgcisigecuqulxtlnjlysy\n",
      "aogtc\n",
      "grkriwlejfrbjitxsnskpgevakaakpelfrvhulyvatf\n",
      "nmxvdmmebsub\n",
      "xrnn\n",
      "wiridbhcrbnqlcywclyskykcozgigzeutwopyt\n",
      "ymqdydmxgvghuropczsmqbzbhbybqzkklenh\n",
      "tkrqhwbgkfinqqxfa\n",
      "oqejauldz\n",
      "yurtzfpdzexogzniwejgtdl\n",
      "uhtima\n",
      "etkxomodfuvwtfrdlpuep\n",
      "ukgmpkeuvbzvuwmjwquiwxyoorokuzgkbacpjwnfoozifhaovtesbinnz\n",
      "gwocvicms\n",
      "rireoblaluprsybjkifaqg\n",
      "mnz\n",
      "hdyn\n",
      "z\n",
      "qxgwihagezmnwunouhcjdsuhnuqe\n",
      "sahqwwndfltcdjwocjamuehxbuibmituxlkfbqkbdtltokljdaefwezcsjoklrzkat\n",
      "qvnph\n",
      "z\n",
      "a\n",
      "vdcegxitqrrn\n",
      "dttxuoaibukwgvhxyjxezuecqwp\n",
      "cvkbokcbszligrgk\n",
      "pds\n",
      "pgnexwqthqeozdnvxmdcoftdzu\n",
      "seigfrtphuojlcutmndrcvdahrrhyvzjffoutnvltvqseeaaomfrvmfzcni\n",
      "hormjaryjigkxujedywanlguulkpjqocppxvvhu\n",
      "acpvqpf\n",
      "wnvnwgcvslfayhrprqgzoqrwkxozktndfq\n",
      "vfvdrfzqnyrpwntwcjqvkwjupcc\n",
      "hsvilacfwazsjlsibglbyknzxidyjoofvfzazkuyoaaqpnazj\n",
      "dgfxkiel\n",
      "nlyqmjttlvg\n",
      "merxvxiwqjtkzkskfdrafsbxionppbdvpnbfdfzoymw\n",
      "fzycpdebwhviexyynzg\n",
      "qug\n",
      "zrblmwflntoqvqkhyrhttrkehwimcmbobmyxy\n",
      "vcepufhsluelzwrshya\n",
      "qavpyqprkpntibapmzqvigyevuhrplf\n",
      "vmtrtlowuscx\n",
      "\n",
      "jhchflnwsrcvdmxbsgxgu\n",
      "vjxgwfvaltbbecsqbmkoywqzxkxbpkhpixpmofqihnhtrzktgkdylmokhlwxjlb\n",
      "\n",
      "nyrwrkcpggeqhvmwvtxnrfqgja\n",
      "csrgphblunaumttrx\n",
      "frcplzuggmgjhgjdacbriaxneijjjekkokpnlrmytbhbwbcmmtnamnroidrycbawpimdmthgirhaiojhqbooefcbzxkzzytx\n",
      "bplwrhfdrgemnlntcvvlkndixz\n",
      "yblmqzzcqghi\n",
      "vbqxpcloicingxanqjjfujkfsahanrpwiohbldn\n"
     ]
    }
   ],
   "source": [
    "# sample from the model\n",
    "g = torch.Generator().manual_seed(2147483647)\n",
    "\n",
    "for _ in range(200):\n",
    "    \n",
    "    out = []\n",
    "    context = [0] * CONTEXT_WINDOW # initialize with all ...\n",
    "    while True:\n",
    "      emb = C[torch.tensor([context])] # (1,block_size,d)\n",
    "      h = torch.tanh(emb.view(1, -1) @ w1 + b1)\n",
    "      logits = h @ w2 + b2\n",
    "      probs = F.softmax(logits, dim=1)\n",
    "      ix = torch.multinomial(probs, num_samples=1, generator=g).item()\n",
    "      context = context[1:] + [ix]\n",
    "      if ix == 0:\n",
    "        break\n",
    "      out.append(ix)\n",
    "    \n",
    "    print(''.join(itos[i] for i in out))"
   ]
  },
  {
   "cell_type": "code",
   "execution_count": 0,
   "metadata": {
    "application/vnd.databricks.v1+cell": {
     "cellMetadata": {
      "byteLimit": 2048000,
      "rowLimit": 10000
     },
     "inputWidgets": {},
     "nuid": "f0d59043-07ce-468f-8f58-f32f7196daed",
     "showTitle": false,
     "tableResultSettingsMap": {},
     "title": ""
    }
   },
   "outputs": [
    {
     "data": {
      "image/png": "[encoded data removed]",
      "text/plain": [
       "<Figure size 800x800 with 1 Axes>"
      ]
     },
     "metadata": {},
     "output_type": "display_data"
    }
   ],
   "source": [
    "import matplotlib.pyplot as plt\n",
    "\n",
    "# visualize dimensions 0 and 1 of the embedding matrix C for all characters\n",
    "plt.figure(figsize=(8,8))\n",
    "plt.scatter(C[:,0].data, C[:,1].data, s=200)\n",
    "for i in range(C.shape[0]):\n",
    "    plt.text(C[i,0].item(), C[i,1].item(), itos[i], ha=\"center\", va=\"center\", color='white')\n",
    "plt.grid('minor')"
   ]
  },
  {
   "cell_type": "code",
   "execution_count": 0,
   "metadata": {
    "application/vnd.databricks.v1+cell": {
     "cellMetadata": {},
     "inputWidgets": {},
     "nuid": "c78f408c-3922-4194-a249-9bcb6559326b",
     "showTitle": false,
     "tableResultSettingsMap": {},
     "title": ""
    }
   },
   "outputs": [],
   "source": []
  },
  {
   "cell_type": "code",
   "execution_count": 0,
   "metadata": {
    "application/vnd.databricks.v1+cell": {
     "cellMetadata": {
      "byteLimit": 2048000,
      "rowLimit": 10000
     },
     "inputWidgets": {},
     "nuid": "4a7ffebf-310f-413a-943d-0cff71d7f206",
     "showTitle": false,
     "tableResultSettingsMap": {},
     "title": ""
    }
   },
   "outputs": [],
   "source": [
    "logits = torch.tensor([1/27]*27)"
   ]
  },
  {
   "cell_type": "code",
   "execution_count": 0,
   "metadata": {
    "application/vnd.databricks.v1+cell": {
     "cellMetadata": {
      "byteLimit": 2048000,
      "rowLimit": 10000
     },
     "inputWidgets": {},
     "nuid": "052969c4-0011-46b7-af2a-a310c4ecf65e",
     "showTitle": false,
     "tableResultSettingsMap": {},
     "title": ""
    }
   },
   "outputs": [
    {
     "name": "stderr",
     "output_type": "stream",
     "text": [
      "/root/.ipykernel/4858/command-2671760361290144-383899727:1: UserWarning: Implicit dimension choice for softmax has been deprecated. Change the call to include dim=X as an argument.\n",
      "  F.softmax(logits)\n"
     ]
    },
    {
     "data": {
      "text/plain": [
       "tensor([0.0370, 0.0370, 0.0370, 0.0370, 0.0370, 0.0370, 0.0370, 0.0370, 0.0370,\n",
       "        0.0370, 0.0370, 0.0370, 0.0370, 0.0370, 0.0370, 0.0370, 0.0370, 0.0370,\n",
       "        0.0370, 0.0370, 0.0370, 0.0370, 0.0370, 0.0370, 0.0370, 0.0370, 0.0370])"
      ]
     },
     "execution_count": 45,
     "metadata": {},
     "output_type": "execute_result"
    }
   ],
   "source": [
    "F.softmax(logits)"
   ]
  },
  {
   "cell_type": "code",
   "execution_count": 0,
   "metadata": {
    "application/vnd.databricks.v1+cell": {
     "cellMetadata": {
      "byteLimit": 2048000,
      "rowLimit": 10000
     },
     "inputWidgets": {},
     "nuid": "a102554a-960b-4630-b111-58fb65b6b20d",
     "showTitle": false,
     "tableResultSettingsMap": {},
     "title": ""
    }
   },
   "outputs": [
    {
     "data": {
      "image/png": "[encoded data removed]",
      "text/plain": [
       "<Figure size 640x480 with 1 Axes>"
      ]
     },
     "metadata": {},
     "output_type": "display_data"
    }
   ],
   "source": [
    "plt.hist(hpreac.view(-1).tolist(),bins=50)\n",
    "plt.show()"
   ]
  },
  {
   "cell_type": "code",
   "execution_count": 0,
   "metadata": {
    "application/vnd.databricks.v1+cell": {
     "cellMetadata": {
      "byteLimit": 2048000,
      "rowLimit": 10000
     },
     "inputWidgets": {},
     "nuid": "215c16f7-1297-4f23-8f80-625ab9bded9b",
     "showTitle": false,
     "tableResultSettingsMap": {},
     "title": ""
    }
   },
   "outputs": [
    {
     "data": {
      "text/plain": [
       "<matplotlib.image.AxesImage at 0x7f4a31b93d30>"
      ]
     },
     "execution_count": 54,
     "metadata": {},
     "output_type": "execute_result"
    },
    {
     "data": {
      "image/png": "[encoded data removed]",
      "text/plain": [
       "<Figure size 2000x1000 with 1 Axes>"
      ]
     },
     "metadata": {},
     "output_type": "display_data"
    }
   ],
   "source": [
    "plt.figure(figsize=(20,10))\n",
    "plt.imshow(out.abs() > 0.99, cmap=\"gray\", interpolation=\"nearest\" )"
   ]
  }
 ],
 "metadata": {
  "application/vnd.databricks.v1+notebook": {
   "computePreferences": null,
   "dashboards": [],
   "environmentMetadata": null,
   "language": "python",
   "notebookMetadata": {
    "pythonIndentUnit": 4
   },
   "notebookName": "mlp2",
   "widgets": {}
  },
  "kernelspec": {
   "display_name": ".venv",
   "language": "python",
   "name": "python3"
  },
  "language_info": {
   "name": "python"
  }
 },
 "nbformat": 4,
 "nbformat_minor": 0
}
